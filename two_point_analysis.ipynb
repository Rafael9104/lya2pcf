{
 "cells": [
  {
   "cell_type": "markdown",
   "metadata": {},
   "source": [
    "# Two point correlation function"
   ]
  },
  {
   "cell_type": "markdown",
   "metadata": {},
   "source": [
    "This notebook produces plots from the correlation functions computed by post_processing.py  "
   ]
  },
  {
   "cell_type": "code",
   "execution_count": null,
   "metadata": {},
   "outputs": [],
   "source": [
    "import numpy as np\n",
    "import matplotlib.pyplot as plt\n",
    "%matplotlib inline\n",
    "from matplotlib.pyplot import rcParams\n",
    "\n",
    "from parameters import *\n",
    "import plot_auxiliars"
   ]
  },
  {
   "cell_type": "code",
   "execution_count": null,
   "metadata": {},
   "outputs": [],
   "source": [
    "# Loading the files\n",
    "correlation = np.load(corr_dir + 'correlation.npy')\n",
    "error = np.load(corr_dir + 'error.npy')\n",
    "covariance = np.load(corr_dir + 'covariance.npy')\n",
    "shape_hist = correlation.shape"
   ]
  },
  {
   "cell_type": "code",
   "execution_count": null,
   "metadata": {},
   "outputs": [],
   "source": [
    "# Number of points and maximum value of the wedge plots\n",
    "points = int((numpix_rp + numpix_rt) / 2)\n",
    "rmax = (rpmax + rtmax) / 2\n",
    "# Values of the limits in mu=cos(theta) for the wedges\n",
    "mus = [0., 0.5, 0.8, 0.95, 1.]"
   ]
  },
  {
   "cell_type": "code",
   "execution_count": null,
   "metadata": {},
   "outputs": [],
   "source": [
    "# mus = [0., 1.]\n",
    "for mumin,mumax in zip(mus[:-1],mus[1:]):\n",
    "    plt.figure(figsize=(12, 9))\n",
    "    rrr,corr, error2 = plot_auxiliars.wedges_weighted_co(mumin, mumax, shape_hist, points, rmax, rpmax, rtmax,  correlation, covariance)\n",
    "    np.save('wedge'+ str(mumin) + '_' + str(mumax),[rrr,corr,np.sqrt(error2)])\n",
    "    plt.title(str(mumin) + r'$ < \\mu < $' + str(mumax))\n",
    "    plt.errorbar(rrr, corr*rrr**2, yerr = np.sqrt(error2)*rrr**2 , fmt = '1', label = 'Error from subsampling covariance')\n",
    "    plt.axvline(x = 105)\n",
    "    plt.legend()\n",
    "    plt.savefig(corr_dir + str(mumin) + '_' + str(mumax) + '.jpg')\n",
    "    plt.show()"
   ]
  },
  {
   "cell_type": "code",
   "execution_count": null,
   "metadata": {},
   "outputs": [],
   "source": [
    "# If the plot is too saturated or too white, adjust the scale\n",
    "scale = 20\n",
    "\n",
    "bin_size_rp = rpmax / numpix_rp\n",
    "bin_size_rt = rtmax / numpix_rt\n",
    "r_1p = np.array([np.arange(0, rtmax, bin_size_r) + bin_size_r / 2 for i in range(numpix_rp)])\n",
    "r_1t = np.array([np.arange(0, rpmax, bin_size_r) + bin_size_r / 2 for i in range(numpix_rt)])\n",
    "r_2d2 = r_1p**2 + np.transpose(r_1t**2)\n",
    "\n",
    "from matplotlib.colors import Normalize\n",
    "from mpl_toolkits.axes_grid1 import ImageGrid\n",
    "class MidpointNormalize(Normalize):\n",
    "    def __init__(self, vmin=None, vmax=None, midpoint=None, clip=False):\n",
    "        self.midpoint = midpoint\n",
    "        Normalize.__init__(self, vmin, vmax, clip)\n",
    "\n",
    "    def __call__(self, value, clip=None):\n",
    "        # I'm ignoring masked values and all kinds of edge cases to make a\n",
    "        # simple example...\n",
    "        x, y = [self.vmin, self.midpoint, self.vmax], [0, 0.5, 1]\n",
    "        return np.ma.masked_array(np.interp(value, x, y))\n",
    "\n",
    "norm = MidpointNormalize(midpoint=0)\n",
    "\n",
    "\n",
    "plt.figure(figsize=(9, 9))\n",
    "cmap=plt.get_cmap('RdBu')\n",
    "\n",
    "fig = plt.figure(figsize=(9, 9))\n",
    "\n",
    "grid = ImageGrid(fig, 111,          # as in plt.subplot(111)\n",
    "                 nrows_ncols=(1,1),\n",
    "                 axes_pad=(0.2,0.5),\n",
    "                 share_all=True,\n",
    "                 cbar_location=\"right\",\n",
    "                 cbar_mode=\"single\",\n",
    "                 cbar_size=\"7%\",\n",
    "                 cbar_pad=0.35,\n",
    "                 )\n",
    "\n",
    "\n",
    "for ax in grid:\n",
    "    im = ax.imshow(correlation*r_2d2,\n",
    "origin='lower', cmap=cmap, interpolation='bilinear', norm=norm,\n",
    "vmin=-scale,vmax=scale)\n",
    "    ax.set_title(r'$\\xi r^2$ Mocks', fontsize = 16)\n",
    "\n",
    "    ax.set_xticks(np.arange(0,60,10))\n",
    "    ax.set_xticklabels(['0','40','80', '120', '160','200'])\n",
    "    ax.set_yticks(np.arange(0,60,10))\n",
    "    ax.set_yticklabels(['0','40','80', '120', '160','200'])\n",
    "    ax.set_xlabel(r'$r_{\\parallel}$ (Mpc/h)', fontsize = 14)\n",
    "    ax.set_ylabel(r'$r_{\\bot}$ (Mpc/h)', fontsize = 14)\n",
    "    \n",
    "ax.cax.colorbar(im)\n",
    "ax.cax.toggle_label(True)\n",
    "plt.savefig(corr_dir + '/2d_corr.jpg')\n",
    "\n",
    "plt.show()"
   ]
  },
  {
   "cell_type": "code",
   "execution_count": null,
   "metadata": {},
   "outputs": [],
   "source": []
  }
 ],
 "metadata": {
  "kernelspec": {
   "display_name": "Python 3 (ipykernel)",
   "language": "python",
   "name": "python3"
  },
  "language_info": {
   "codemirror_mode": {
    "name": "ipython",
    "version": 3
   },
   "file_extension": ".py",
   "mimetype": "text/x-python",
   "name": "python",
   "nbconvert_exporter": "python",
   "pygments_lexer": "ipython3",
   "version": "3.12.3"
  }
 },
 "nbformat": 4,
 "nbformat_minor": 4
}
